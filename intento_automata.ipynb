{
 "cells": [
  {
   "cell_type": "code",
   "execution_count": 23,
   "metadata": {},
   "outputs": [],
   "source": [
    "#Estas serian las librerias que necesitaria \n",
    "\n",
    "import matplotlib.pyplot as plt\n",
    "import numpy"
   ]
  },
  {
   "cell_type": "code",
   "execution_count": 26,
   "metadata": {},
   "outputs": [],
   "source": [
    "n = 100 # con esto realizamos el tamaño que seria de nxn\n",
    "p = 0.1 # en primer instancia seria una probabilidad de 10% de infección\n",
    "\n",
    "# Definimos la siguiente función initialize\n",
    "\n",
    "# config realizara un arreglo inicial y el que se ira actualizando seria nextconfig \n",
    "\n",
    "def initialize():\n",
    "    global config,nextconfig\n",
    "    config = zeros([n,n])\n",
    "    for x in xrange(n):\n",
    "        for y in xrange(n):\n",
    "            config[x,y] = 1 if random()<p else 0\n",
    "    nextconfig = zeros([n,n])"
   ]
  },
  {
   "cell_type": "code",
   "execution_count": 27,
   "metadata": {},
   "outputs": [],
   "source": [
    "# definimos obs\n",
    "\n",
    "def observe():\n",
    "    global config,nextconfig\n",
    "    cla() #limpias los ejes\n",
    "    imshow(config,vmin = 0, vmax = 1, cmap = cm.binary)"
   ]
  },
  {
   "cell_type": "code",
   "execution_count": 28,
   "metadata": {},
   "outputs": [],
   "source": [
    "# con esta funcion iriamos actualizando la cuadricula \n",
    "def update():\n",
    "    global config,nextconfig\n",
    "    for x in xrange(n):\n",
    "        for y in xrange(n):\n",
    "            count = 0\n",
    "            for s in [-1,0,1]:\n",
    "                for w in [-1,0,1]:\n",
    "                    count += config[(x+s) % n, (y+w) % n]"
   ]
  },
  {
   "cell_type": "code",
   "execution_count": null,
   "metadata": {},
   "outputs": [],
   "source": []
  }
 ],
 "metadata": {
  "kernelspec": {
   "display_name": "Python 3",
   "language": "python",
   "name": "python3"
  },
  "language_info": {
   "codemirror_mode": {
    "name": "ipython",
    "version": 3
   },
   "file_extension": ".py",
   "mimetype": "text/x-python",
   "name": "python",
   "nbconvert_exporter": "python",
   "pygments_lexer": "ipython3",
   "version": "3.7.4"
  }
 },
 "nbformat": 4,
 "nbformat_minor": 4
}
